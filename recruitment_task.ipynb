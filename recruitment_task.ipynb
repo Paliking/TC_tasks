{
 "cells": [
  {
   "cell_type": "markdown",
   "metadata": {
    "deletable": true,
    "editable": true
   },
   "source": [
    "\n",
    "## Task 1\n",
    "University of Arizona was sued for sex discrimination. Its admission data showed that men applying to graduate school at Arizona were more likely to be admitted than women.The graduate schools had just accepted 44% of male applicants but only 35% of female applicants. The difference was so great that it was unlikely to be due to chance.\n",
    "Experts analyzed the data set in detail and find out that discrimination has been carried in a way. Do you agree after analyzing the data set or you have a different conclusion? (Dataset: university.csv)\n",
    "\n",
    "## Task 2\n",
    "Analyze the Aircrash dataset and find out the following: (Dataset: Airplane_Crashes_Since_1908.csv)\n",
    "- a.\tYearly how many planes crashed? How many people were on board? How many survived? How many died?\n",
    "- b.\tHighest number of crashes by operator and Type of aircrafts.\n",
    "- c.\t‘Summary’ field has the details about the crashes. Find the reasons of the crash and categorize them in different clusters i.e Fire, shot down, weather (for the ‘Blanks’ in the data category can be UNKNOWN) you are open to make clusters of your choice but they should not exceed 7.\n",
    "- d.\tFind the number of crashed aircrafts and number of deaths against each category from above step.\n",
    "- e.\tFind any interesting trends/behaviors that you encounter when you analyze the dataset.\n"
   ]
  },
  {
   "cell_type": "code",
   "execution_count": 1,
   "metadata": {
    "collapsed": true,
    "deletable": true,
    "editable": true
   },
   "outputs": [],
   "source": [
    "import numpy as np\n",
    "import pandas as pd\n",
    "import matplotlib.pyplot as plt\n",
    "import scipy.stats\n",
    "%matplotlib inline\n",
    "import matplotlib\n",
    "matplotlib.style.use('ggplot')"
   ]
  },
  {
   "cell_type": "markdown",
   "metadata": {
    "deletable": true,
    "editable": true
   },
   "source": [
    "## Task 1\n",
    "#### a) Vizualizing\n",
    "#### b) Statistical tests\n",
    "#### c) Conclusion"
   ]
  },
  {
   "cell_type": "markdown",
   "metadata": {
    "deletable": true,
    "editable": true
   },
   "source": [
    "### 1a) Vizualizing"
   ]
  },
  {
   "cell_type": "code",
   "execution_count": 2,
   "metadata": {
    "collapsed": false,
    "deletable": true,
    "editable": true
   },
   "outputs": [
    {
     "data": {
      "text/html": [
       "<div>\n",
       "<table border=\"1\" class=\"dataframe\">\n",
       "  <thead>\n",
       "    <tr style=\"text-align: right;\">\n",
       "      <th></th>\n",
       "      <th>Admit</th>\n",
       "      <th>Gender</th>\n",
       "      <th>Dept</th>\n",
       "      <th>Freq</th>\n",
       "    </tr>\n",
       "  </thead>\n",
       "  <tbody>\n",
       "    <tr>\n",
       "      <th>0</th>\n",
       "      <td>Admitted</td>\n",
       "      <td>Male</td>\n",
       "      <td>A</td>\n",
       "      <td>512</td>\n",
       "    </tr>\n",
       "    <tr>\n",
       "      <th>1</th>\n",
       "      <td>Rejected</td>\n",
       "      <td>Male</td>\n",
       "      <td>A</td>\n",
       "      <td>313</td>\n",
       "    </tr>\n",
       "    <tr>\n",
       "      <th>2</th>\n",
       "      <td>Admitted</td>\n",
       "      <td>Female</td>\n",
       "      <td>A</td>\n",
       "      <td>89</td>\n",
       "    </tr>\n",
       "    <tr>\n",
       "      <th>3</th>\n",
       "      <td>Rejected</td>\n",
       "      <td>Female</td>\n",
       "      <td>A</td>\n",
       "      <td>19</td>\n",
       "    </tr>\n",
       "    <tr>\n",
       "      <th>4</th>\n",
       "      <td>Admitted</td>\n",
       "      <td>Male</td>\n",
       "      <td>B</td>\n",
       "      <td>353</td>\n",
       "    </tr>\n",
       "    <tr>\n",
       "      <th>5</th>\n",
       "      <td>Rejected</td>\n",
       "      <td>Male</td>\n",
       "      <td>B</td>\n",
       "      <td>207</td>\n",
       "    </tr>\n",
       "    <tr>\n",
       "      <th>6</th>\n",
       "      <td>Admitted</td>\n",
       "      <td>Female</td>\n",
       "      <td>B</td>\n",
       "      <td>17</td>\n",
       "    </tr>\n",
       "    <tr>\n",
       "      <th>7</th>\n",
       "      <td>Rejected</td>\n",
       "      <td>Female</td>\n",
       "      <td>B</td>\n",
       "      <td>8</td>\n",
       "    </tr>\n",
       "    <tr>\n",
       "      <th>8</th>\n",
       "      <td>Admitted</td>\n",
       "      <td>Male</td>\n",
       "      <td>C</td>\n",
       "      <td>120</td>\n",
       "    </tr>\n",
       "    <tr>\n",
       "      <th>9</th>\n",
       "      <td>Rejected</td>\n",
       "      <td>Male</td>\n",
       "      <td>C</td>\n",
       "      <td>205</td>\n",
       "    </tr>\n",
       "    <tr>\n",
       "      <th>10</th>\n",
       "      <td>Admitted</td>\n",
       "      <td>Female</td>\n",
       "      <td>C</td>\n",
       "      <td>202</td>\n",
       "    </tr>\n",
       "    <tr>\n",
       "      <th>11</th>\n",
       "      <td>Rejected</td>\n",
       "      <td>Female</td>\n",
       "      <td>C</td>\n",
       "      <td>391</td>\n",
       "    </tr>\n",
       "    <tr>\n",
       "      <th>12</th>\n",
       "      <td>Admitted</td>\n",
       "      <td>Male</td>\n",
       "      <td>D</td>\n",
       "      <td>138</td>\n",
       "    </tr>\n",
       "    <tr>\n",
       "      <th>13</th>\n",
       "      <td>Rejected</td>\n",
       "      <td>Male</td>\n",
       "      <td>D</td>\n",
       "      <td>279</td>\n",
       "    </tr>\n",
       "    <tr>\n",
       "      <th>14</th>\n",
       "      <td>Admitted</td>\n",
       "      <td>Female</td>\n",
       "      <td>D</td>\n",
       "      <td>131</td>\n",
       "    </tr>\n",
       "    <tr>\n",
       "      <th>15</th>\n",
       "      <td>Rejected</td>\n",
       "      <td>Female</td>\n",
       "      <td>D</td>\n",
       "      <td>244</td>\n",
       "    </tr>\n",
       "    <tr>\n",
       "      <th>16</th>\n",
       "      <td>Admitted</td>\n",
       "      <td>Male</td>\n",
       "      <td>E</td>\n",
       "      <td>53</td>\n",
       "    </tr>\n",
       "    <tr>\n",
       "      <th>17</th>\n",
       "      <td>Rejected</td>\n",
       "      <td>Male</td>\n",
       "      <td>E</td>\n",
       "      <td>138</td>\n",
       "    </tr>\n",
       "    <tr>\n",
       "      <th>18</th>\n",
       "      <td>Admitted</td>\n",
       "      <td>Female</td>\n",
       "      <td>E</td>\n",
       "      <td>94</td>\n",
       "    </tr>\n",
       "    <tr>\n",
       "      <th>19</th>\n",
       "      <td>Rejected</td>\n",
       "      <td>Female</td>\n",
       "      <td>E</td>\n",
       "      <td>299</td>\n",
       "    </tr>\n",
       "    <tr>\n",
       "      <th>20</th>\n",
       "      <td>Admitted</td>\n",
       "      <td>Male</td>\n",
       "      <td>F</td>\n",
       "      <td>22</td>\n",
       "    </tr>\n",
       "    <tr>\n",
       "      <th>21</th>\n",
       "      <td>Rejected</td>\n",
       "      <td>Male</td>\n",
       "      <td>F</td>\n",
       "      <td>351</td>\n",
       "    </tr>\n",
       "    <tr>\n",
       "      <th>22</th>\n",
       "      <td>Admitted</td>\n",
       "      <td>Female</td>\n",
       "      <td>F</td>\n",
       "      <td>24</td>\n",
       "    </tr>\n",
       "    <tr>\n",
       "      <th>23</th>\n",
       "      <td>Rejected</td>\n",
       "      <td>Female</td>\n",
       "      <td>F</td>\n",
       "      <td>317</td>\n",
       "    </tr>\n",
       "  </tbody>\n",
       "</table>\n",
       "</div>"
      ],
      "text/plain": [
       "       Admit  Gender Dept  Freq\n",
       "0   Admitted    Male    A   512\n",
       "1   Rejected    Male    A   313\n",
       "2   Admitted  Female    A    89\n",
       "3   Rejected  Female    A    19\n",
       "4   Admitted    Male    B   353\n",
       "5   Rejected    Male    B   207\n",
       "6   Admitted  Female    B    17\n",
       "7   Rejected  Female    B     8\n",
       "8   Admitted    Male    C   120\n",
       "9   Rejected    Male    C   205\n",
       "10  Admitted  Female    C   202\n",
       "11  Rejected  Female    C   391\n",
       "12  Admitted    Male    D   138\n",
       "13  Rejected    Male    D   279\n",
       "14  Admitted  Female    D   131\n",
       "15  Rejected  Female    D   244\n",
       "16  Admitted    Male    E    53\n",
       "17  Rejected    Male    E   138\n",
       "18  Admitted  Female    E    94\n",
       "19  Rejected  Female    E   299\n",
       "20  Admitted    Male    F    22\n",
       "21  Rejected    Male    F   351\n",
       "22  Admitted  Female    F    24\n",
       "23  Rejected  Female    F   317"
      ]
     },
     "execution_count": 2,
     "metadata": {},
     "output_type": "execute_result"
    }
   ],
   "source": [
    "df = pd.read_csv('inputs/university.csv')\n",
    "df"
   ]
  },
  {
   "cell_type": "code",
   "execution_count": 3,
   "metadata": {
    "collapsed": false,
    "deletable": true,
    "editable": true
   },
   "outputs": [
    {
     "data": {
      "image/png": "[encoded data removed]",
      "text/plain": [
       "<matplotlib.figure.Figure at 0x92ad9d0>"
      ]
     },
     "metadata": {},
     "output_type": "display_data"
    }
   ],
   "source": [
    "#possible status\n",
    "pos_status = ['Rejected', 'Admitted']\n",
    "# plot number of applicants\n",
    "df_uni = df.groupby('Gender').sum()\n",
    "df_uni.columns = ['applicants']\n",
    "df_uni.plot(kind='bar', legend=False)\n",
    "plt.ylabel('Freq')\n",
    "plt.title('Number of applicants')\n",
    "plt.show()"
   ]
  },
  {
   "cell_type": "code",
   "execution_count": 4,
   "metadata": {
    "collapsed": false,
    "deletable": true,
    "editable": true
   },
   "outputs": [
    {
     "data": {
      "text/plain": [
       "1.4664850136239782"
      ]
     },
     "execution_count": 4,
     "metadata": {},
     "output_type": "execute_result"
    }
   ],
   "source": [
    "df_uni.ix['Male', 'applicants'] / df_uni.ix['Female', 'applicants']"
   ]
  },
  {
   "cell_type": "markdown",
   "metadata": {
    "deletable": true,
    "editable": true
   },
   "source": [
    "#### There is 1.5 times more male applicants then female applicants."
   ]
  },
  {
   "cell_type": "code",
   "execution_count": 5,
   "metadata": {
    "collapsed": false,
    "deletable": true,
    "editable": true
   },
   "outputs": [],
   "source": [
    "# add stats to frame\n",
    "for stat in pos_status:\n",
    "    df_uni[stat] = df[df['Admit']==stat].groupby('Gender').sum()"
   ]
  },
  {
   "cell_type": "code",
   "execution_count": 6,
   "metadata": {
    "collapsed": false,
    "deletable": true,
    "editable": true
   },
   "outputs": [
    {
     "data": {
      "image/png": "[encoded data removed]",
      "text/plain": [
       "<matplotlib.figure.Figure at 0x933f4b0>"
      ]
     },
     "metadata": {},
     "output_type": "display_data"
    }
   ],
   "source": [
    "df_uni[pos_status].plot(kind='bar', legend=True)\n",
    "plt.ylabel('Freq')\n",
    "plt.title('Number of applicants with their results')\n",
    "plt.legend(loc=4)\n",
    "plt.show()"
   ]
  },
  {
   "cell_type": "code",
   "execution_count": 7,
   "metadata": {
    "collapsed": false,
    "deletable": true,
    "editable": true
   },
   "outputs": [
    {
     "data": {
      "image/png": "[encoded data removed]",
      "text/plain": [
       "<matplotlib.figure.Figure at 0x93b9b90>"
      ]
     },
     "metadata": {},
     "output_type": "display_data"
    }
   ],
   "source": [
    "df_uni[pos_status].plot(kind='bar', legend=True, stacked=True)\n",
    "plt.ylabel('Freq')\n",
    "plt.title('Number of applicants with their results, stacked')\n",
    "plt.legend(loc=2)\n",
    "plt.show()"
   ]
  },
  {
   "cell_type": "code",
   "execution_count": 8,
   "metadata": {
    "collapsed": false,
    "deletable": true,
    "editable": true
   },
   "outputs": [
    {
     "data": {
      "text/html": [
       "<div>\n",
       "<table border=\"1\" class=\"dataframe\">\n",
       "  <thead>\n",
       "    <tr style=\"text-align: right;\">\n",
       "      <th></th>\n",
       "      <th>applicants</th>\n",
       "      <th>Rejected</th>\n",
       "      <th>Admitted</th>\n",
       "      <th>Rejected(%)</th>\n",
       "      <th>Admitted(%)</th>\n",
       "    </tr>\n",
       "    <tr>\n",
       "      <th>Gender</th>\n",
       "      <th></th>\n",
       "      <th></th>\n",
       "      <th></th>\n",
       "      <th></th>\n",
       "      <th></th>\n",
       "    </tr>\n",
       "  </thead>\n",
       "  <tbody>\n",
       "    <tr>\n",
       "      <th>Female</th>\n",
       "      <td>1835</td>\n",
       "      <td>1278</td>\n",
       "      <td>557</td>\n",
       "      <td>69.645777</td>\n",
       "      <td>30.354223</td>\n",
       "    </tr>\n",
       "    <tr>\n",
       "      <th>Male</th>\n",
       "      <td>2691</td>\n",
       "      <td>1493</td>\n",
       "      <td>1198</td>\n",
       "      <td>55.481234</td>\n",
       "      <td>44.518766</td>\n",
       "    </tr>\n",
       "  </tbody>\n",
       "</table>\n",
       "</div>"
      ],
      "text/plain": [
       "        applicants  Rejected  Admitted  Rejected(%)  Admitted(%)\n",
       "Gender                                                          \n",
       "Female        1835      1278       557    69.645777    30.354223\n",
       "Male          2691      1493      1198    55.481234    44.518766"
      ]
     },
     "execution_count": 8,
     "metadata": {},
     "output_type": "execute_result"
    }
   ],
   "source": [
    "for stat in pos_status:\n",
    "    new_stat = stat + '(%)'\n",
    "    df_uni[new_stat] = df_uni[stat] / df_uni['applicants'] * 100\n",
    "df_uni"
   ]
  },
  {
   "cell_type": "code",
   "execution_count": 9,
   "metadata": {
    "collapsed": false,
    "deletable": true,
    "editable": true
   },
   "outputs": [
    {
     "data": {
      "image/png": "[encoded data removed]",
      "text/plain": [
       "<matplotlib.figure.Figure at 0x93e8210>"
      ]
     },
     "metadata": {},
     "output_type": "display_data"
    }
   ],
   "source": [
    "df_uni[['Rejected(%)', 'Admitted(%)']].plot(kind='bar', legend=True)\n",
    "plt.ylabel('%')\n",
    "plt.title('Results of the application (%)')\n",
    "plt.legend(loc=4)\n",
    "plt.legend([\"rejected\", \"admitted\"])\n",
    "plt.show()"
   ]
  },
  {
   "cell_type": "markdown",
   "metadata": {
    "deletable": true,
    "editable": true
   },
   "source": [
    "It was posted that the university had accepted 44% of male applicants but only 35% of female applicants. In our dataset we can clearly see that only 30% of females where admitted, which doesnt correspond with original value 35%.  It can be  becouse of the reduction of dataset to only 6 (probably the biggest) departments.\n",
    "\n",
    "Lets explore admit rates for each department separately."
   ]
  },
  {
   "cell_type": "code",
   "execution_count": 10,
   "metadata": {
    "collapsed": false,
    "deletable": true,
    "editable": true
   },
   "outputs": [
    {
     "data": {
      "text/html": [
       "<div>\n",
       "<table border=\"1\" class=\"dataframe\">\n",
       "  <thead>\n",
       "    <tr style=\"text-align: right;\">\n",
       "      <th></th>\n",
       "      <th>Admit</th>\n",
       "      <th>Gender</th>\n",
       "      <th>Dept</th>\n",
       "      <th>Freq</th>\n",
       "      <th>gender_sum_bydept</th>\n",
       "      <th>perc</th>\n",
       "    </tr>\n",
       "  </thead>\n",
       "  <tbody>\n",
       "    <tr>\n",
       "      <th>0</th>\n",
       "      <td>Admitted</td>\n",
       "      <td>Male</td>\n",
       "      <td>A</td>\n",
       "      <td>512</td>\n",
       "      <td>825</td>\n",
       "      <td>0.620606</td>\n",
       "    </tr>\n",
       "    <tr>\n",
       "      <th>1</th>\n",
       "      <td>Rejected</td>\n",
       "      <td>Male</td>\n",
       "      <td>A</td>\n",
       "      <td>313</td>\n",
       "      <td>825</td>\n",
       "      <td>0.379394</td>\n",
       "    </tr>\n",
       "    <tr>\n",
       "      <th>2</th>\n",
       "      <td>Admitted</td>\n",
       "      <td>Female</td>\n",
       "      <td>A</td>\n",
       "      <td>89</td>\n",
       "      <td>108</td>\n",
       "      <td>0.824074</td>\n",
       "    </tr>\n",
       "    <tr>\n",
       "      <th>3</th>\n",
       "      <td>Rejected</td>\n",
       "      <td>Female</td>\n",
       "      <td>A</td>\n",
       "      <td>19</td>\n",
       "      <td>108</td>\n",
       "      <td>0.175926</td>\n",
       "    </tr>\n",
       "    <tr>\n",
       "      <th>4</th>\n",
       "      <td>Admitted</td>\n",
       "      <td>Male</td>\n",
       "      <td>B</td>\n",
       "      <td>353</td>\n",
       "      <td>560</td>\n",
       "      <td>0.630357</td>\n",
       "    </tr>\n",
       "  </tbody>\n",
       "</table>\n",
       "</div>"
      ],
      "text/plain": [
       "      Admit  Gender Dept  Freq gender_sum_bydept      perc\n",
       "0  Admitted    Male    A   512               825  0.620606\n",
       "1  Rejected    Male    A   313               825  0.379394\n",
       "2  Admitted  Female    A    89               108  0.824074\n",
       "3  Rejected  Female    A    19               108  0.175926\n",
       "4  Admitted    Male    B   353               560  0.630357"
      ]
     },
     "execution_count": 10,
     "metadata": {},
     "output_type": "execute_result"
    }
   ],
   "source": [
    "df['gender_sum_bydept'] = df.groupby(['Gender', 'Dept']).transform(sum)['Freq']\n",
    "df['perc'] = df['Freq'] / df['gender_sum_bydept']\n",
    "df.head()"
   ]
  },
  {
   "cell_type": "code",
   "execution_count": 11,
   "metadata": {
    "collapsed": false,
    "deletable": true,
    "editable": true
   },
   "outputs": [
    {
     "data": {
      "text/html": [
       "<div>\n",
       "<table border=\"1\" class=\"dataframe\">\n",
       "  <thead>\n",
       "    <tr style=\"text-align: right;\">\n",
       "      <th></th>\n",
       "      <th>male_admitted</th>\n",
       "      <th>female_admitted</th>\n",
       "      <th>male_sum</th>\n",
       "      <th>female_sum</th>\n",
       "      <th>female_admited(%)</th>\n",
       "      <th>male_admited(%)</th>\n",
       "    </tr>\n",
       "    <tr>\n",
       "      <th>department</th>\n",
       "      <th></th>\n",
       "      <th></th>\n",
       "      <th></th>\n",
       "      <th></th>\n",
       "      <th></th>\n",
       "      <th></th>\n",
       "    </tr>\n",
       "  </thead>\n",
       "  <tbody>\n",
       "    <tr>\n",
       "      <th>A</th>\n",
       "      <td>512</td>\n",
       "      <td>89</td>\n",
       "      <td>825</td>\n",
       "      <td>108</td>\n",
       "      <td>82.4074</td>\n",
       "      <td>62.0606</td>\n",
       "    </tr>\n",
       "    <tr>\n",
       "      <th>B</th>\n",
       "      <td>353</td>\n",
       "      <td>17</td>\n",
       "      <td>560</td>\n",
       "      <td>25</td>\n",
       "      <td>68</td>\n",
       "      <td>63.0357</td>\n",
       "    </tr>\n",
       "    <tr>\n",
       "      <th>C</th>\n",
       "      <td>120</td>\n",
       "      <td>202</td>\n",
       "      <td>325</td>\n",
       "      <td>593</td>\n",
       "      <td>34.0641</td>\n",
       "      <td>36.9231</td>\n",
       "    </tr>\n",
       "    <tr>\n",
       "      <th>D</th>\n",
       "      <td>138</td>\n",
       "      <td>131</td>\n",
       "      <td>417</td>\n",
       "      <td>375</td>\n",
       "      <td>34.9333</td>\n",
       "      <td>33.0935</td>\n",
       "    </tr>\n",
       "    <tr>\n",
       "      <th>E</th>\n",
       "      <td>53</td>\n",
       "      <td>94</td>\n",
       "      <td>191</td>\n",
       "      <td>393</td>\n",
       "      <td>23.9186</td>\n",
       "      <td>27.7487</td>\n",
       "    </tr>\n",
       "    <tr>\n",
       "      <th>F</th>\n",
       "      <td>22</td>\n",
       "      <td>24</td>\n",
       "      <td>373</td>\n",
       "      <td>341</td>\n",
       "      <td>7.03812</td>\n",
       "      <td>5.89812</td>\n",
       "    </tr>\n",
       "  </tbody>\n",
       "</table>\n",
       "</div>"
      ],
      "text/plain": [
       "            male_admitted  female_admitted male_sum female_sum  \\\n",
       "department                                                       \n",
       "A                     512               89      825        108   \n",
       "B                     353               17      560         25   \n",
       "C                     120              202      325        593   \n",
       "D                     138              131      417        375   \n",
       "E                      53               94      191        393   \n",
       "F                      22               24      373        341   \n",
       "\n",
       "           female_admited(%) male_admited(%)  \n",
       "department                                    \n",
       "A                    82.4074         62.0606  \n",
       "B                         68         63.0357  \n",
       "C                    34.0641         36.9231  \n",
       "D                    34.9333         33.0935  \n",
       "E                    23.9186         27.7487  \n",
       "F                    7.03812         5.89812  "
      ]
     },
     "execution_count": 11,
     "metadata": {},
     "output_type": "execute_result"
    }
   ],
   "source": [
    "unique_depts = df['Dept'].unique()\n",
    "df_bydept_admitted = pd.DataFrame(index=unique_depts)\n",
    "mask_male = (df['Gender'] == 'Male') & (df['Admit'] == 'Admitted')\n",
    "mask_female = (df['Gender'] == 'Female') & (df['Admit'] == 'Admitted')\n",
    "df_bydept_admitted['male_admitted'] = df[mask_male].set_index('Dept')['Freq']\n",
    "df_bydept_admitted['female_admitted'] = df[mask_female].set_index('Dept')['Freq']\n",
    "df_bydept_admitted['male_sum'] = df[mask_male].set_index('Dept')['gender_sum_bydept']\n",
    "df_bydept_admitted['female_sum'] = df[mask_female].set_index('Dept')['gender_sum_bydept']\n",
    "df_bydept_admitted['female_admited(%)'] = df_bydept_admitted['female_admitted'] / df_bydept_admitted['female_sum'] * 100\n",
    "df_bydept_admitted['male_admited(%)'] = df_bydept_admitted['male_admitted'] / df_bydept_admitted['male_sum'] * 100\n",
    "df_bydept_admitted.index.name = 'department'\n",
    "df_bydept_admitted"
   ]
  },
  {
   "cell_type": "code",
   "execution_count": 12,
   "metadata": {
    "collapsed": false,
    "deletable": true,
    "editable": true
   },
   "outputs": [
    {
     "data": {
      "image/png": "[encoded data removed]",
      "text/plain": [
       "<matplotlib.figure.Figure at 0x940f910>"
      ]
     },
     "metadata": {},
     "output_type": "display_data"
    }
   ],
   "source": [
    "df_bydept_admitted[['male_admitted', 'female_admitted']].plot(kind='bar')\n",
    "plt.legend([\"males\", \"females\"])\n",
    "plt.title('Admitted students based on the department')\n",
    "plt.ylabel('number of students')\n",
    "plt.show()"
   ]
  },
  {
   "cell_type": "code",
   "execution_count": 13,
   "metadata": {
    "collapsed": false,
    "deletable": true,
    "editable": true
   },
   "outputs": [
    {
     "data": {
      "image/png": "[encoded data removed]",
      "text/plain": [
       "<matplotlib.figure.Figure at 0x94b21f0>"
      ]
     },
     "metadata": {},
     "output_type": "display_data"
    }
   ],
   "source": [
    "df_bydept_admitted[['male_admited(%)', 'female_admited(%)']].plot(kind='bar')\n",
    "plt.legend([\"males\", \"females\"])\n",
    "plt.title('Percentage of admitted students based on the department')\n",
    "plt.ylabel('%')\n",
    "plt.show()"
   ]
  },
  {
   "cell_type": "markdown",
   "metadata": {
    "collapsed": true,
    "deletable": true,
    "editable": true
   },
   "source": [
    "It is interesting. For 4 departments out of 6 there is bigger percentage of admitted females than males. For other 2 departments it is even close. Based on this  findings it doesnt look like any kind of gender discrimination problem."
   ]
  },
  {
   "cell_type": "markdown",
   "metadata": {
    "collapsed": true,
    "deletable": true,
    "editable": true
   },
   "source": [
    "### 1b) Statistical tests"
   ]
  },
  {
   "cell_type": "markdown",
   "metadata": {
    "collapsed": true,
    "deletable": true,
    "editable": true
   },
   "source": [
    "For this situation we can use binomial test.  We wish to test whether the proportion of admitted females differs significantly from proportion of admitted males (44%). \n",
    "##### Null Hypothesis: the proportion of admitted females does not significantly differ from the value of 44% (no gender discrimination)\n",
    "Lets test it on significance level alfa=0.01"
   ]
  },
  {
   "cell_type": "code",
   "execution_count": 14,
   "metadata": {
    "collapsed": false,
    "deletable": true,
    "editable": true
   },
   "outputs": [
    {
     "data": {
      "text/html": [
       "<div>\n",
       "<table border=\"1\" class=\"dataframe\">\n",
       "  <thead>\n",
       "    <tr style=\"text-align: right;\">\n",
       "      <th></th>\n",
       "      <th>applicants</th>\n",
       "      <th>Rejected</th>\n",
       "      <th>Admitted</th>\n",
       "      <th>Rejected(%)</th>\n",
       "      <th>Admitted(%)</th>\n",
       "    </tr>\n",
       "    <tr>\n",
       "      <th>Gender</th>\n",
       "      <th></th>\n",
       "      <th></th>\n",
       "      <th></th>\n",
       "      <th></th>\n",
       "      <th></th>\n",
       "    </tr>\n",
       "  </thead>\n",
       "  <tbody>\n",
       "    <tr>\n",
       "      <th>Female</th>\n",
       "      <td>1835</td>\n",
       "      <td>1278</td>\n",
       "      <td>557</td>\n",
       "      <td>69.645777</td>\n",
       "      <td>30.354223</td>\n",
       "    </tr>\n",
       "    <tr>\n",
       "      <th>Male</th>\n",
       "      <td>2691</td>\n",
       "      <td>1493</td>\n",
       "      <td>1198</td>\n",
       "      <td>55.481234</td>\n",
       "      <td>44.518766</td>\n",
       "    </tr>\n",
       "  </tbody>\n",
       "</table>\n",
       "</div>"
      ],
      "text/plain": [
       "        applicants  Rejected  Admitted  Rejected(%)  Admitted(%)\n",
       "Gender                                                          \n",
       "Female        1835      1278       557    69.645777    30.354223\n",
       "Male          2691      1493      1198    55.481234    44.518766"
      ]
     },
     "execution_count": 14,
     "metadata": {},
     "output_type": "execute_result"
    }
   ],
   "source": [
    "df_uni"
   ]
  },
  {
   "cell_type": "code",
   "execution_count": 15,
   "metadata": {
    "collapsed": false,
    "deletable": true,
    "editable": true
   },
   "outputs": [],
   "source": [
    "admitted_females = df_uni.ix['Female', 'Admitted']\n",
    "applicants_females = df_uni.ix['Female', 'applicants']"
   ]
  },
  {
   "cell_type": "code",
   "execution_count": 16,
   "metadata": {
    "collapsed": false,
    "deletable": true,
    "editable": true
   },
   "outputs": [
    {
     "name": "stdout",
     "output_type": "stream",
     "text": [
      "p-value:  4.73377822082e-33\n"
     ]
    }
   ],
   "source": [
    "# testing if 30% (value from our data) admitted rate significantly differs from 44%\n",
    "p1 = scipy.stats.binom_test(admitted_females, applicants_females, p=0.44)\n",
    "print('p-value: ', p1)"
   ]
  },
  {
   "cell_type": "code",
   "execution_count": 17,
   "metadata": {
    "collapsed": false,
    "deletable": true,
    "editable": true
   },
   "outputs": [
    {
     "name": "stdout",
     "output_type": "stream",
     "text": [
      "p-value:  4.13949014451e-15\n"
     ]
    }
   ],
   "source": [
    "# testing if 35% (originally posted) admitted rate significantly differs from 44%\n",
    "p2 = scipy.stats.binom_test(int(applicants_females*0.35), applicants_females, p=0.44)\n",
    "print('p-value: ', p2)"
   ]
  },
  {
   "cell_type": "markdown",
   "metadata": {
    "collapsed": true,
    "deletable": true,
    "editable": true
   },
   "source": [
    "In both cases the final p-value is lower than chosen significance level 0.01, therefore we can reject the null Hypothesis. It means there is significant difference between female and male admission. It could indicate gender discrimination against women.\n",
    "\n",
    "Do the same testing for departments separately."
   ]
  },
  {
   "cell_type": "code",
   "execution_count": 18,
   "metadata": {
    "collapsed": false,
    "deletable": true,
    "editable": true
   },
   "outputs": [
    {
     "data": {
      "text/html": [
       "<div>\n",
       "<table border=\"1\" class=\"dataframe\">\n",
       "  <thead>\n",
       "    <tr style=\"text-align: right;\">\n",
       "      <th></th>\n",
       "      <th>male_admitted</th>\n",
       "      <th>female_admitted</th>\n",
       "      <th>male_sum</th>\n",
       "      <th>female_sum</th>\n",
       "      <th>female_admited(%)</th>\n",
       "      <th>male_admited(%)</th>\n",
       "      <th>significance_of_%_diff</th>\n",
       "    </tr>\n",
       "    <tr>\n",
       "      <th>department</th>\n",
       "      <th></th>\n",
       "      <th></th>\n",
       "      <th></th>\n",
       "      <th></th>\n",
       "      <th></th>\n",
       "      <th></th>\n",
       "      <th></th>\n",
       "    </tr>\n",
       "  </thead>\n",
       "  <tbody>\n",
       "    <tr>\n",
       "      <th>A</th>\n",
       "      <td>512</td>\n",
       "      <td>89</td>\n",
       "      <td>825</td>\n",
       "      <td>108</td>\n",
       "      <td>82.4074</td>\n",
       "      <td>62.0606</td>\n",
       "      <td>significant</td>\n",
       "    </tr>\n",
       "    <tr>\n",
       "      <th>B</th>\n",
       "      <td>353</td>\n",
       "      <td>17</td>\n",
       "      <td>560</td>\n",
       "      <td>25</td>\n",
       "      <td>68</td>\n",
       "      <td>63.0357</td>\n",
       "      <td>not significant</td>\n",
       "    </tr>\n",
       "    <tr>\n",
       "      <th>C</th>\n",
       "      <td>120</td>\n",
       "      <td>202</td>\n",
       "      <td>325</td>\n",
       "      <td>593</td>\n",
       "      <td>34.0641</td>\n",
       "      <td>36.9231</td>\n",
       "      <td>not significant</td>\n",
       "    </tr>\n",
       "    <tr>\n",
       "      <th>D</th>\n",
       "      <td>138</td>\n",
       "      <td>131</td>\n",
       "      <td>417</td>\n",
       "      <td>375</td>\n",
       "      <td>34.9333</td>\n",
       "      <td>33.0935</td>\n",
       "      <td>not significant</td>\n",
       "    </tr>\n",
       "    <tr>\n",
       "      <th>E</th>\n",
       "      <td>53</td>\n",
       "      <td>94</td>\n",
       "      <td>191</td>\n",
       "      <td>393</td>\n",
       "      <td>23.9186</td>\n",
       "      <td>27.7487</td>\n",
       "      <td>not significant</td>\n",
       "    </tr>\n",
       "    <tr>\n",
       "      <th>F</th>\n",
       "      <td>22</td>\n",
       "      <td>24</td>\n",
       "      <td>373</td>\n",
       "      <td>341</td>\n",
       "      <td>7.03812</td>\n",
       "      <td>5.89812</td>\n",
       "      <td>not significant</td>\n",
       "    </tr>\n",
       "  </tbody>\n",
       "</table>\n",
       "</div>"
      ],
      "text/plain": [
       "            male_admitted  female_admitted male_sum female_sum  \\\n",
       "department                                                       \n",
       "A                     512               89      825        108   \n",
       "B                     353               17      560         25   \n",
       "C                     120              202      325        593   \n",
       "D                     138              131      417        375   \n",
       "E                      53               94      191        393   \n",
       "F                      22               24      373        341   \n",
       "\n",
       "           female_admited(%) male_admited(%) significance_of_%_diff  \n",
       "department                                                           \n",
       "A                    82.4074         62.0606            significant  \n",
       "B                         68         63.0357        not significant  \n",
       "C                    34.0641         36.9231        not significant  \n",
       "D                    34.9333         33.0935        not significant  \n",
       "E                    23.9186         27.7487        not significant  \n",
       "F                    7.03812         5.89812        not significant  "
      ]
     },
     "execution_count": 18,
     "metadata": {},
     "output_type": "execute_result"
    }
   ],
   "source": [
    "def bin_test(row, alfa=0.01):\n",
    "    admitted_females = row['female_admitted']\n",
    "    applicants_females = row['female_sum']\n",
    "    male_admited_ratio = row['male_admited(%)'] / 100\n",
    "    p_value = scipy.stats.binom_test(admitted_females, applicants_females, p=male_admited_ratio)\n",
    "    if p_value < alfa:\n",
    "        stat = 'significant'\n",
    "    else:\n",
    "        stat = 'not significant'\n",
    "    return stat\n",
    "  \n",
    "df_bydept_admitted['significance_of_%_diff'] = df_bydept_admitted.apply(bin_test, axis=1)\n",
    "df_bydept_admitted"
   ]
  },
  {
   "cell_type": "markdown",
   "metadata": {
    "deletable": true,
    "editable": true
   },
   "source": [
    "The difference between percentage of accepted women and men is significant for department A only. And there is more accepted women then men. After this analysis we dont see any gender discrimination against women."
   ]
  },
  {
   "cell_type": "markdown",
   "metadata": {
    "deletable": true,
    "editable": true
   },
   "source": [
    "### 1c) Conclusion\n",
    "When we compare percentage of accepted women and men for all departments together, it seems that the difference is significant and there should be gender discrimination. But after deeper exploration of each department separately we found out, that men are **not** more likely to be admitted than women.\n",
    "**There is no gender discrimination against women**.\n",
    "The difference in general stats is probably due to the significantly higher popularity of departments A and B for men. The same time these deparments (A and B) can admit more students compared to other departments."
   ]
  },
  {
   "cell_type": "markdown",
   "metadata": {
    "deletable": true,
    "editable": true
   },
   "source": [
    "## Task 2\n",
    "Analyze the Aircrash dataset and find out the following: (Dataset: Airplane_Crashes_Since_1908.csv)\n",
    "- a.\tYearly how many planes crashed? How many people were on board? How many survived? How many died?\n",
    "- b.\tHighest number of crashes by operator and Type of aircrafts.\n",
    "- c.\t‘Summary’ field has the details about the crashes. Find the reasons of the crash and categorize them in different clusters i.e Fire, shot down, weather (for the ‘Blanks’ in the data category can be UNKNOWN) you are open to make clusters of your choice but they should not exceed 7.\n",
    "- d.\tFind the number of crashed aircrafts and number of deaths against each category from above step.\n",
    "- e.\tFind any interesting trends/behaviors that you encounter when you analyze the dataset.\n"
   ]
  },
  {
   "cell_type": "code",
   "execution_count": 19,
   "metadata": {
    "collapsed": false,
    "deletable": true,
    "editable": true
   },
   "outputs": [
    {
     "data": {
      "text/html": [
       "<div>\n",
       "<table border=\"1\" class=\"dataframe\">\n",
       "  <thead>\n",
       "    <tr style=\"text-align: right;\">\n",
       "      <th></th>\n",
       "      <th>Date</th>\n",
       "      <th>Time</th>\n",
       "      <th>Location</th>\n",
       "      <th>Operator</th>\n",
       "      <th>Flight #</th>\n",
       "      <th>Route</th>\n",
       "      <th>Type</th>\n",
       "      <th>Registration</th>\n",
       "      <th>cn/In</th>\n",
       "      <th>Aboard</th>\n",
       "      <th>Fatalities</th>\n",
       "      <th>Ground</th>\n",
       "      <th>Summary</th>\n",
       "    </tr>\n",
       "  </thead>\n",
       "  <tbody>\n",
       "    <tr>\n",
       "      <th>0</th>\n",
       "      <td>09/17/1908</td>\n",
       "      <td>17:18</td>\n",
       "      <td>Fort Myer, Virginia</td>\n",
       "      <td>Military - U.S. Army</td>\n",
       "      <td>NaN</td>\n",
       "      <td>Demonstration</td>\n",
       "      <td>Wright Flyer III</td>\n",
       "      <td>NaN</td>\n",
       "      <td>1</td>\n",
       "      <td>2.0</td>\n",
       "      <td>1.0</td>\n",
       "      <td>0.0</td>\n",
       "      <td>During a demonstration flight, a U.S. Army fly...</td>\n",
       "    </tr>\n",
       "    <tr>\n",
       "      <th>1</th>\n",
       "      <td>07/12/1912</td>\n",
       "      <td>06:30</td>\n",
       "      <td>AtlantiCity, New Jersey</td>\n",
       "      <td>Military - U.S. Navy</td>\n",
       "      <td>NaN</td>\n",
       "      <td>Test flight</td>\n",
       "      <td>Dirigible</td>\n",
       "      <td>NaN</td>\n",
       "      <td>NaN</td>\n",
       "      <td>5.0</td>\n",
       "      <td>5.0</td>\n",
       "      <td>0.0</td>\n",
       "      <td>First U.S. dirigible Akron exploded just offsh...</td>\n",
       "    </tr>\n",
       "    <tr>\n",
       "      <th>2</th>\n",
       "      <td>08/06/1913</td>\n",
       "      <td>NaN</td>\n",
       "      <td>Victoria, British Columbia, Canada</td>\n",
       "      <td>Private</td>\n",
       "      <td>-</td>\n",
       "      <td>NaN</td>\n",
       "      <td>Curtiss seaplane</td>\n",
       "      <td>NaN</td>\n",
       "      <td>NaN</td>\n",
       "      <td>1.0</td>\n",
       "      <td>1.0</td>\n",
       "      <td>0.0</td>\n",
       "      <td>The first fatal airplane accident in Canada oc...</td>\n",
       "    </tr>\n",
       "    <tr>\n",
       "      <th>3</th>\n",
       "      <td>09/09/1913</td>\n",
       "      <td>18:30</td>\n",
       "      <td>Over the North Sea</td>\n",
       "      <td>Military - German Navy</td>\n",
       "      <td>NaN</td>\n",
       "      <td>NaN</td>\n",
       "      <td>Zeppelin L-1 (airship)</td>\n",
       "      <td>NaN</td>\n",
       "      <td>NaN</td>\n",
       "      <td>20.0</td>\n",
       "      <td>14.0</td>\n",
       "      <td>0.0</td>\n",
       "      <td>The airship flew into a thunderstorm and encou...</td>\n",
       "    </tr>\n",
       "    <tr>\n",
       "      <th>4</th>\n",
       "      <td>10/17/1913</td>\n",
       "      <td>10:30</td>\n",
       "      <td>Near Johannisthal, Germany</td>\n",
       "      <td>Military - German Navy</td>\n",
       "      <td>NaN</td>\n",
       "      <td>NaN</td>\n",
       "      <td>Zeppelin L-2 (airship)</td>\n",
       "      <td>NaN</td>\n",
       "      <td>NaN</td>\n",
       "      <td>30.0</td>\n",
       "      <td>30.0</td>\n",
       "      <td>0.0</td>\n",
       "      <td>Hydrogen gas which was being vented was sucked...</td>\n",
       "    </tr>\n",
       "  </tbody>\n",
       "</table>\n",
       "</div>"
      ],
      "text/plain": [
       "         Date   Time                            Location  \\\n",
       "0  09/17/1908  17:18                 Fort Myer, Virginia   \n",
       "1  07/12/1912  06:30             AtlantiCity, New Jersey   \n",
       "2  08/06/1913    NaN  Victoria, British Columbia, Canada   \n",
       "3  09/09/1913  18:30                  Over the North Sea   \n",
       "4  10/17/1913  10:30          Near Johannisthal, Germany   \n",
       "\n",
       "                 Operator Flight #          Route                    Type  \\\n",
       "0    Military - U.S. Army      NaN  Demonstration        Wright Flyer III   \n",
       "1    Military - U.S. Navy      NaN    Test flight               Dirigible   \n",
       "2                 Private        -            NaN        Curtiss seaplane   \n",
       "3  Military - German Navy      NaN            NaN  Zeppelin L-1 (airship)   \n",
       "4  Military - German Navy      NaN            NaN  Zeppelin L-2 (airship)   \n",
       "\n",
       "  Registration cn/In  Aboard  Fatalities  Ground  \\\n",
       "0          NaN     1     2.0         1.0     0.0   \n",
       "1          NaN   NaN     5.0         5.0     0.0   \n",
       "2          NaN   NaN     1.0         1.0     0.0   \n",
       "3          NaN   NaN    20.0        14.0     0.0   \n",
       "4          NaN   NaN    30.0        30.0     0.0   \n",
       "\n",
       "                                             Summary  \n",
       "0  During a demonstration flight, a U.S. Army fly...  \n",
       "1  First U.S. dirigible Akron exploded just offsh...  \n",
       "2  The first fatal airplane accident in Canada oc...  \n",
       "3  The airship flew into a thunderstorm and encou...  \n",
       "4  Hydrogen gas which was being vented was sucked...  "
      ]
     },
     "execution_count": 19,
     "metadata": {},
     "output_type": "execute_result"
    }
   ],
   "source": [
    "df = pd.read_csv('inputs/Airplane_Crashes_Since_1908.csv')\n",
    "df.head()"
   ]
  },
  {
   "cell_type": "code",
   "execution_count": 20,
   "metadata": {
    "collapsed": false,
    "deletable": true,
    "editable": true
   },
   "outputs": [
    {
     "name": "stdout",
     "output_type": "stream",
     "text": [
      "shape of data:  (5268, 13)\n"
     ]
    }
   ],
   "source": [
    "print('shape of data: ', df.shape)"
   ]
  },
  {
   "cell_type": "code",
   "execution_count": 21,
   "metadata": {
    "collapsed": false,
    "deletable": true,
    "editable": true
   },
   "outputs": [
    {
     "name": "stdout",
     "output_type": "stream",
     "text": [
      "<class 'pandas.core.frame.DataFrame'>\n",
      "RangeIndex: 5268 entries, 0 to 5267\n",
      "Data columns (total 13 columns):\n",
      "Date            5268 non-null object\n",
      "Time            3049 non-null object\n",
      "Location        5248 non-null object\n",
      "Operator        5250 non-null object\n",
      "Flight #        1069 non-null object\n",
      "Route           3562 non-null object\n",
      "Type            5241 non-null object\n",
      "Registration    4933 non-null object\n",
      "cn/In           4040 non-null object\n",
      "Aboard          5246 non-null float64\n",
      "Fatalities      5256 non-null float64\n",
      "Ground          5246 non-null float64\n",
      "Summary         4878 non-null object\n",
      "dtypes: float64(3), object(10)\n",
      "memory usage: 329.3+ KB\n"
     ]
    }
   ],
   "source": [
    "df.info()"
   ]
  },
  {
   "cell_type": "code",
   "execution_count": 22,
   "metadata": {
    "collapsed": false,
    "deletable": true,
    "editable": true
   },
   "outputs": [],
   "source": [
    "df['Date'] = pd.to_datetime(df['Date'])\n",
    "df.sort_values('Date', inplace=True)"
   ]
  },
  {
   "cell_type": "markdown",
   "metadata": {
    "deletable": true,
    "editable": true
   },
   "source": [
    "#### 2a) Yearly how many planes crashed? How many people were on board? How many survived? How many died?"
   ]
  },
  {
   "cell_type": "code",
   "execution_count": 23,
   "metadata": {
    "collapsed": false,
    "deletable": true,
    "editable": true
   },
   "outputs": [],
   "source": [
    "df_yearly_count = df.groupby(df['Date'].dt.year).count()['Date']\n",
    "df_yearly_sum = df.groupby(df['Date'].dt.year).sum()"
   ]
  },
  {
   "cell_type": "code",
   "execution_count": 24,
   "metadata": {
    "collapsed": false,
    "deletable": true,
    "editable": true
   },
   "outputs": [
    {
     "data": {
      "image/png": "[encoded data removed]",
      "text/plain": [
       "<matplotlib.figure.Figure at 0x95cab90>"
      ]
     },
     "metadata": {},
     "output_type": "display_data"
    }
   ],
   "source": [
    "plt.figure(figsize=(15,8))\n",
    "plt.bar(df_yearly_count.index, df_yearly_count.values)\n",
    "plt.title('Planes crashed - yearly')\n",
    "plt.ylabel('number of craches')\n",
    "plt.xlabel('year')\n",
    "plt.show()"
   ]
  },
  {
   "cell_type": "code",
   "execution_count": 25,
   "metadata": {
    "collapsed": false,
    "deletable": true,
    "editable": true
   },
   "outputs": [
    {
     "data": {
      "image/png": "[encoded data removed]",
      "text/plain": [
       "<matplotlib.figure.Figure at 0x96ac210>"
      ]
     },
     "metadata": {},
     "output_type": "display_data"
    }
   ],
   "source": [
    "plt.figure(figsize=(15,8))\n",
    "plt.bar(df_yearly_sum.index, df_yearly_sum['Aboard'].values)\n",
    "plt.title('People aboard - yearly')\n",
    "plt.ylabel('number of people')\n",
    "plt.xlabel('year')\n",
    "plt.show()"
   ]
  },
  {
   "cell_type": "code",
   "execution_count": 26,
   "metadata": {
    "collapsed": false,
    "deletable": true,
    "editable": true
   },
   "outputs": [
    {
     "data": {
      "image/png": "[encoded data removed]",
      "text/plain": [
       "<matplotlib.figure.Figure at 0x9763550>"
      ]
     },
     "metadata": {},
     "output_type": "display_data"
    }
   ],
   "source": [
    "plt.figure(figsize=(15,8))\n",
    "plt.bar(df_yearly_sum.index, (df_yearly_sum['Aboard'] - df_yearly_sum['Fatalities']))\n",
    "plt.title('People survived - yearly')\n",
    "plt.ylabel('number of people')\n",
    "plt.xlabel('year')\n",
    "plt.show()"
   ]
  },
  {
   "cell_type": "code",
   "execution_count": 27,
   "metadata": {
    "collapsed": false,
    "deletable": true,
    "editable": true
   },
   "outputs": [
    {
     "data": {
      "image/png": "[encoded data removed]",
      "text/plain": [
       "<matplotlib.figure.Figure at 0x9859b70>"
      ]
     },
     "metadata": {},
     "output_type": "display_data"
    }
   ],
   "source": [
    "plt.figure(figsize=(15,8))\n",
    "plt.bar(df_yearly_sum.index, df_yearly_sum['Fatalities'].values)\n",
    "plt.title('People died - yearly')\n",
    "plt.ylabel('number of people')\n",
    "plt.xlabel('year')\n",
    "plt.show()"
   ]
  },
  {
   "cell_type": "markdown",
   "metadata": {
    "deletable": true,
    "editable": true
   },
   "source": [
    "#### 2b) Highest number of crashes by operator and Type of aircrafts."
   ]
  },
  {
   "cell_type": "code",
   "execution_count": 28,
   "metadata": {
    "collapsed": false,
    "deletable": true,
    "editable": true
   },
   "outputs": [
    {
     "data": {
      "text/plain": [
       "2.699605855855856"
      ]
     },
     "execution_count": 28,
     "metadata": {},
     "output_type": "execute_result"
    }
   ],
   "source": [
    "# in average, 3 times more people died then survived\n",
    "df_yearly_sum['Fatalities'].mean() / (df_yearly_sum['Aboard'] - df_yearly_sum['Fatalities']).mean()"
   ]
  },
  {
   "cell_type": "code",
   "execution_count": 29,
   "metadata": {
    "collapsed": false,
    "deletable": true,
    "editable": true
   },
   "outputs": [
    {
     "data": {
      "text/plain": [
       "Aeroflot                               179\n",
       "Military - U.S. Air Force              176\n",
       "Air France                              70\n",
       "Deutsche Lufthansa                      65\n",
       "Air Taxi                                44\n",
       "United Air Lines                        44\n",
       "China National Aviation Corporation     44\n",
       "Military - U.S. Army Air Forces         43\n",
       "Name: Operator, dtype: int64"
      ]
     },
     "execution_count": 29,
     "metadata": {},
     "output_type": "execute_result"
    }
   ],
   "source": [
    "# Highest number of crashes by operator\n",
    "df['Operator'].value_counts().head(8)"
   ]
  },
  {
   "cell_type": "code",
   "execution_count": 30,
   "metadata": {
    "collapsed": false,
    "deletable": true,
    "editable": true
   },
   "outputs": [
    {
     "data": {
      "text/plain": [
       "Military - U.S.       323\n",
       "Aeroflot              179\n",
       "Air France             70\n",
       "Deutsche Lufthansa     65\n",
       "Air Taxi               44\n",
       "Name: Operator, dtype: int64"
      ]
     },
     "execution_count": 30,
     "metadata": {},
     "output_type": "execute_result"
    }
   ],
   "source": [
    "# Highest number of crashes by operator if US military is merged\n",
    "US_set = set()\n",
    "def check_US_army(elem):\n",
    "    if 'military' in elem.lower() and 'U.S.' in elem:\n",
    "        US_set.add(elem)\n",
    "        return 'Military - U.S.'\n",
    "    else:\n",
    "        return elem\n",
    "        \n",
    "df['Operator'].dropna().apply(check_US_army).value_counts().head()"
   ]
  },
  {
   "cell_type": "code",
   "execution_count": 31,
   "metadata": {
    "collapsed": false,
    "deletable": true,
    "editable": true
   },
   "outputs": [
    {
     "data": {
      "text/plain": [
       "{'Eastern Air Lines / Military - U.S. Army Air Corps',\n",
       " 'Maddux Airlines / Military - U.S.Army Air Force',\n",
       " 'Military -  (2) U.S. Army Air Forces',\n",
       " 'Military - U.S.  Air Force / Military - U.S. Navy',\n",
       " 'Military - U.S. Air Force',\n",
       " 'Military - U.S. Air Force / Military -  U.S. Air Force',\n",
       " 'Military - U.S. Air Force / Military -  U.S. Army',\n",
       " 'Military - U.S. Air Force / Military - U.S. Air Force',\n",
       " 'Military - U.S. Air Force / Military U.S. Air Force',\n",
       " 'Military - U.S. Air Force / U.S. Air Force',\n",
       " 'Military - U.S. Air Force/Military - U.S. Air Force',\n",
       " 'Military - U.S. Army',\n",
       " 'Military - U.S. Army / Military - U.S. Army',\n",
       " 'Military - U.S. Army / Military U.S. Army',\n",
       " 'Military - U.S. Army Air Corps',\n",
       " 'Military - U.S. Army Air Force',\n",
       " 'Military - U.S. Army Air Forces',\n",
       " 'Military - U.S. Army Air Forces / Military - U.S. Army Air Forces',\n",
       " 'Military - U.S. Army Air Service',\n",
       " 'Military - U.S. Marine Corps',\n",
       " 'Military - U.S. Marine Corps/Military - U.S. Marine Corps',\n",
       " 'Military - U.S. Marines',\n",
       " 'Military - U.S. Navy',\n",
       " 'Military - U.S. Navy / Military -  U.S. Navy',\n",
       " 'Military - U.S. Navy / Military - U.S. Navy',\n",
       " 'Military - U.S. Navy / NASA',\n",
       " 'Military - Vietnamese Air Force / Military - U.S. Army',\n",
       " 'Military U.S. Navy',\n",
       " 'Military U.S. Navy / Military - U.S. Navy',\n",
       " 'REAL / Military - U.S. Navy',\n",
       " 'United Air Lines / Military - U.S. Air Force'}"
      ]
     },
     "execution_count": 31,
     "metadata": {},
     "output_type": "execute_result"
    }
   ],
   "source": [
    "US_set"
   ]
  },
  {
   "cell_type": "markdown",
   "metadata": {
    "deletable": true,
    "editable": true
   },
   "source": [
    "**Highest number of crashes by operator is number 179 by Aeroflot operator.** But there are a lot of U.S. military operators. It seems sometimes the same operator has different name/entry i.e \"Military - U.S. Air Force\" and \"Military - U.S. Army Air Forces\". If I group all entries which contain letters \"military\" and \"U.S.\", I get the highest number of crashes for this **\"Military - U.S.\"** operator. **The value is 323**."
   ]
  },
  {
   "cell_type": "code",
   "execution_count": 32,
   "metadata": {
    "collapsed": false,
    "deletable": true,
    "editable": true
   },
   "outputs": [
    {
     "data": {
      "text/plain": [
       "Douglas DC-3                                334\n",
       "de Havilland Canada DHC-6 Twin Otter 300     81\n",
       "Douglas C-47A                                74\n",
       "Douglas C-47                                 62\n",
       "Douglas DC-4                                 40\n",
       "Name: Type, dtype: int64"
      ]
     },
     "execution_count": 32,
     "metadata": {},
     "output_type": "execute_result"
    }
   ],
   "source": [
    "df['Type'].value_counts().head()"
   ]
  },
  {
   "cell_type": "markdown",
   "metadata": {
    "deletable": true,
    "editable": true
   },
   "source": [
    " **Highest number of crashes by Type is 334 for Douglas DC-3 type.**"
   ]
  },
  {
   "cell_type": "markdown",
   "metadata": {
    "deletable": true,
    "editable": true
   },
   "source": [
    "#### 2c) ‘Summary’ field has the details about the crashes. Find the reasons of the crash and categorize them in different clusters i.e Fire, shot down, weather (for the ‘Blanks’ in the data category can be UNKNOWN) you are open to make clusters of your choice but they should not exceed 7."
   ]
  },
  {
   "cell_type": "code",
   "execution_count": null,
   "metadata": {
    "collapsed": true
   },
   "outputs": [],
   "source": []
  },
  {
   "cell_type": "code",
   "execution_count": null,
   "metadata": {
    "collapsed": true
   },
   "outputs": [],
   "source": []
  },
  {
   "cell_type": "code",
   "execution_count": null,
   "metadata": {
    "collapsed": true
   },
   "outputs": [],
   "source": []
  },
  {
   "cell_type": "code",
   "execution_count": 85,
   "metadata": {
    "collapsed": false,
    "deletable": true,
    "editable": true
   },
   "outputs": [
    {
     "ename": "ImportError",
     "evalue": "No module named 'mpl_toolkits.basemap'",
     "output_type": "error",
     "traceback": [
      "\u001b[0;31m---------------------------------------------------------------------------\u001b[0m",
      "\u001b[0;31mImportError\u001b[0m                               Traceback (most recent call last)",
      "\u001b[0;32m<ipython-input-85-d66ee83c5f39>\u001b[0m in \u001b[0;36m<module>\u001b[0;34m()\u001b[0m\n\u001b[1;32m      1\u001b[0m \u001b[1;32mfrom\u001b[0m \u001b[0mgeopy\u001b[0m\u001b[1;33m.\u001b[0m\u001b[0mgeocoders\u001b[0m \u001b[1;32mimport\u001b[0m \u001b[0mNominatim\u001b[0m\u001b[1;33m\u001b[0m\u001b[0m\n\u001b[0;32m----> 2\u001b[0;31m \u001b[1;32mfrom\u001b[0m \u001b[0mmpl_toolkits\u001b[0m\u001b[1;33m.\u001b[0m\u001b[0mbasemap\u001b[0m \u001b[1;32mimport\u001b[0m \u001b[0mBasemap\u001b[0m\u001b[1;33m\u001b[0m\u001b[0m\n\u001b[0m",
      "\u001b[0;31mImportError\u001b[0m: No module named 'mpl_toolkits.basemap'"
     ]
    }
   ],
   "source": [
    "from geopy.geocoders import Nominatim\n",
    "from mpl_toolkits.basemap import Basemap"
   ]
  },
  {
   "cell_type": "code",
   "execution_count": 65,
   "metadata": {
    "collapsed": false,
    "deletable": true,
    "editable": true
   },
   "outputs": [],
   "source": [
    "# zdroj: https://www.kaggle.com/steamengine/d/saurograndi/airplane-crashes-since-1908/crash-sites-visualized-civilian-and-military\n",
    "geolocator = Nominatim()\n",
    "locations = df['Location'][:10].apply(lambda x: geolocator.geocode(x, timeout=10))"
   ]
  },
  {
   "cell_type": "code",
   "execution_count": 83,
   "metadata": {
    "collapsed": false,
    "deletable": true,
    "editable": true
   },
   "outputs": [],
   "source": [
    "def get_coors(row, latitude=True):\n",
    "    if row is not None:\n",
    "        if latitude:\n",
    "            return row.latitude\n",
    "        else:\n",
    "            return row.longitude\n",
    "    else:\n",
    "        return np.nan\n",
    "    \n",
    "df['long'] = locations.apply(get_coors, latitude=False)\n",
    "df['lat'] = locations.apply(get_coors)"
   ]
  },
  {
   "cell_type": "code",
   "execution_count": null,
   "metadata": {
    "collapsed": false,
    "deletable": true,
    "editable": true
   },
   "outputs": [],
   "source": [
    "plt.figure(figsize=(20, 10))\n",
    "base_map.fillcontinents(color='#404040', lake_color='#000000')\n",
    "base_map.drawmapboundary(fill_color='#000000')\n",
    "base_map.drawcountries(linewidth=0.3, color=\"w\")\n",
    "mxy_civ = base_map(df['long'].values, df['lat'].values)\n",
    "if len(mxy_civ[0]) > 0:\n",
    "    base_map.scatter(mxy_civ[0], mxy_civ[1], s=5, c=\"#1292db\", lw=0, alpha=1, zorder=5)"
   ]
  }
 ],
 "metadata": {
  "anaconda-cloud": {},
  "kernelspec": {
   "display_name": "Python 3",
   "language": "python",
   "name": "python3"
  },
  "language_info": {
   "codemirror_mode": {
    "name": "ipython",
    "version": 3
   },
   "file_extension": ".py",
   "mimetype": "text/x-python",
   "name": "python",
   "nbconvert_exporter": "python",
   "pygments_lexer": "ipython3",
   "version": "3.4.3"
  }
 },
 "nbformat": 4,
 "nbformat_minor": 2
}
